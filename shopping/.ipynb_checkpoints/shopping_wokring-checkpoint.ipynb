{
 "cells": [
  {
   "cell_type": "code",
   "execution_count": 200,
   "metadata": {},
   "outputs": [
    {
     "data": {
      "text/plain": [
       "(0.15474452554744525, 0.8452554744525548)"
      ]
     },
     "execution_count": 200,
     "metadata": {},
     "output_type": "execute_result"
    }
   ],
   "source": [
    "import csv\n",
    "import sys\n",
    "\n",
    "from sklearn.model_selection import train_test_split\n",
    "from sklearn.neighbors import KNeighborsClassifier\n",
    "from sklearn.metrics import confusion_matrix\n",
    "import pandas as pd\n",
    "import numpy as np\n",
    "\n",
    "TEST_SIZE = 0.4\n",
    "\n",
    "def main():\n",
    "\n",
    "    # Check command-line arguments\n",
    "    if len(sys.argv) != 2:\n",
    "        sys.exit(\"Usage: python shopping.py data\")\n",
    "\n",
    "    # Load data from spreadsheet and split into train and test sets\n",
    "    evidence, labels = load_data(sys.argv[1])\n",
    "    X_train, X_test, y_train, y_test = train_test_split(\n",
    "        evidence, labels, test_size=TEST_SIZE\n",
    "    )\n",
    "\n",
    "    # Train model and make predictions\n",
    "    model = train_model(X_train, y_train)\n",
    "    predictions = model.predict(X_test)\n",
    "    sensitivity, specificity = evaluate(y_test, predictions)\n",
    "\n",
    "    # Print results\n",
    "    print(f\"Correct: {(y_test == predictions).sum()}\")\n",
    "    print(f\"Incorrect: {(y_test != predictions).sum()}\")\n",
    "    print(f\"True Positive Rate: {100 * sensitivity:.2f}%\")\n",
    "    print(f\"True Negative Rate: {100 * specificity:.2f}%\")\n",
    "\n",
    "\n",
    "def load_data(filename):\n",
    "    \"\"\"\n",
    "    Load shopping data from a CSV file `filename` and convert into a list of\n",
    "    evidence lists and a list of labels. Return a tuple (evidence, labels).\n",
    "    evidence should be a list of lists, where each list contains the\n",
    "    following values, in order:\n",
    "        - Administrative, an integer\n",
    "        - Administrative_Duration, a floating point number\n",
    "        - Informational, an integer\n",
    "        - Informational_Duration, a floating point number\n",
    "        - ProductRelated, an integer\n",
    "        - ProductRelated_Duration, a floating point number\n",
    "        - BounceRates, a floating point number\n",
    "        - ExitRates, a floating point number\n",
    "        - PageValues, a floating point number\n",
    "        - SpecialDay, a floating point number\n",
    "        - Month, an index from 0 (January) to 11 (December)\n",
    "        - OperatingSystems, an integer\n",
    "        - Browser, an integer\n",
    "        - Region, an integer\n",
    "        - TrafficType, an integer\n",
    "        - VisitorType, an integer 0 (not returning) or 1 (returning)\n",
    "        - Weekend, an integer 0 (if false) or 1 (if true)\n",
    "\n",
    "    labels should be the corresponding list of labels, where each label\n",
    "    is 1 if Revenue is true, and 0 otherwise.\n",
    "    \"\"\"\n",
    "    df = pd.read_csv(filename)\n",
    "    #\n",
    "    df.Administrative = df.Administrative.astype('int')\n",
    "    df.Informational = df.Informational.astype('int')\n",
    "    df.ProductRelated = df.ProductRelated.astype('int')\n",
    "    df['Month'] = df['Month'].map({'Feb':2, 'Mar':3, 'May':5, 'Oct':10, 'June':6, 'Jul':7, 'Aug':8, \\\n",
    "                                   'Nov':11, 'Sep':10,'Dec':12})\n",
    "    df.OperatingSystems = df.OperatingSystems.astype('int')\n",
    "    df.Browser = df.Browser.astype('int')\n",
    "    df.Region = df.Region.astype('int')\n",
    "    df.TrafficType = df.TrafficType.astype('int')\n",
    "    df.TrafficType = df.TrafficType.astype('int')\n",
    "    df['VisitorType'] = df['VisitorType'].map({'Returning_Visitor':1, 'New_Visitor':2, 'Other':3})\n",
    "    df['Weekend'] = df['Weekend'].map({True:1, False:0})\n",
    "    df['Revenue'] = df['Revenue'].map({True:1, False:0})\n",
    "    \n",
    "    evidence = df.drop('Revenue', axis=1).values\n",
    "    labels = df.Revenue\n",
    "    \n",
    "    return evidence, labels\n",
    "\n",
    "\n",
    "def train_model(evidence, labels):\n",
    "    \"\"\"\n",
    "    Given a list of evidence lists and a list of labels, return a\n",
    "    fitted k-nearest neighbor model (k=1) trained on the data.\n",
    "    \"\"\"    \n",
    "    return KNeighborsClassifier(n_neighbors=1).fit(evidence, labels)\n",
    "    \n",
    "\n",
    "def evaluate(labels, predictions):\n",
    "    \"\"\"\n",
    "    Given a list of actual labels and a list of predicted labels,\n",
    "    return a tuple (sensitivity, specificty).\n",
    "\n",
    "    Assume each label is either a 1 (positive) or 0 (negative).\n",
    "\n",
    "    `sensitivity` should be a floating-point value from 0 to 1\n",
    "    representing the \"true positive rate\": the proportion of\n",
    "    actual positive labels that were accurately identified.\n",
    "\n",
    "    `specificity` should be a floating-point value from 0 to 1\n",
    "    representing the \"true negative rate\": the proportion of\n",
    "    actual negative labels that were accurately identified.\n",
    "    \"\"\"\n",
    "    tpr = sum(labels == 1)\n",
    "    tnr = sum(labels == 0)\n",
    "    \n",
    "    return (tpr / sum(labels == predictions)), (tnr / sum(labels == predictions))\n",
    "\n",
    "\n",
    "filename = 'shopping.csv'\n",
    "evidence, labels = load_data(filename)\n",
    "\n",
    "cls = train_model(evidence, labels)\n",
    "\n",
    "pred = cls.predict(evidence)\n",
    "\n",
    "evaluate(labels, pred)"
   ]
  },
  {
   "cell_type": "code",
   "execution_count": 201,
   "metadata": {},
   "outputs": [
    {
     "data": {
      "text/plain": [
       "(1908.000000001, 1e-09, 10422.000000001, 1e-09, 0.15474452554750123, 0.5)"
      ]
     },
     "execution_count": 201,
     "metadata": {},
     "output_type": "execute_result"
    }
   ],
   "source": [
    "true_positive = 0.000000001\n",
    "true_negative = 0.000000001\n",
    "false_negative = 0.000000001\n",
    "false_positive = 0.000000001\n",
    "\n",
    "for i in zip(labels, pred):\n",
    "    if sum(i) == 2:\n",
    "        true_positive += 1\n",
    "    elif sum(i) == 0:\n",
    "        false_negative += 1\n",
    "    elif i[0] == 1 or sum(i) == 1:\n",
    "        true_negative += 1\n",
    "    elif i[0] == 0 or sum(i) == 1:\n",
    "        false_positive += 1\n",
    "    else:\n",
    "        print('no values')\n",
    "    \n",
    "        \n",
    "sensivity = true_positive / (true_positive + false_negative)\n",
    "\n",
    "specificity = true_negative / (true_negative + false_positive)\n",
    "\n",
    "        \n",
    "true_positive, true_negative, false_negative, false_positive, sensivity, specificity"
   ]
  },
  {
   "cell_type": "code",
   "execution_count": 202,
   "metadata": {},
   "outputs": [
    {
     "data": {
      "text/plain": [
       "array([[10422,     0],\n",
       "       [    0,  1908]])"
      ]
     },
     "execution_count": 202,
     "metadata": {},
     "output_type": "execute_result"
    }
   ],
   "source": [
    "confusion_matrix(labels, pred)"
   ]
  },
  {
   "cell_type": "code",
   "execution_count": null,
   "metadata": {},
   "outputs": [],
   "source": []
  }
 ],
 "metadata": {
  "kernelspec": {
   "display_name": "Python 3",
   "language": "python",
   "name": "python3"
  },
  "language_info": {
   "codemirror_mode": {
    "name": "ipython",
    "version": 3
   },
   "file_extension": ".py",
   "mimetype": "text/x-python",
   "name": "python",
   "nbconvert_exporter": "python",
   "pygments_lexer": "ipython3",
   "version": "3.8.5"
  }
 },
 "nbformat": 4,
 "nbformat_minor": 4
}
