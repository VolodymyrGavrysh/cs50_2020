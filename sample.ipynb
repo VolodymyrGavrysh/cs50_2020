{
 "cells": [
  {
   "cell_type": "code",
   "execution_count": 116,
   "metadata": {},
   "outputs": [],
   "source": [
    "data = {\"1.html\": {\"2.html\", \"3.html\"}, \"2.html\": {\"3.html\"}, \"3.html\": {\"2.html\"}, \"4.html\": {\"2.html\"}}\n",
    "data1 = {\"1.html\": {\"3.html\"}, \"2.html\": {\"3.html\"}, \"3.html\": {\"2.html\"}, \"4.html\": {\"2.html\"}}"
   ]
  },
  {
   "cell_type": "code",
   "execution_count": 122,
   "metadata": {},
   "outputs": [
    {
     "data": {
      "text/plain": [
       "{'1.html': 0.038,\n",
       " '2.html': 0.3213333333333333,\n",
       " '3.html': 0.3213333333333333,\n",
       " '4.html': 0.3213333333333333}"
      ]
     },
     "execution_count": 122,
     "metadata": {},
     "output_type": "execute_result"
    }
   ],
   "source": [
    "damping_factor = 0.85\n",
    "n = 10\n",
    "\n",
    "def transition_model(corpus, page, damping_factor):\n",
    "    \"\"\"\n",
    "    Return a probability distribution over which page to visit next,\n",
    "    given a current page.\n",
    "    With probability `damping_factor`, choose a link at random\n",
    "    linked to by `page`. With probability `1 - damping_factor`, choose\n",
    "    a link at random chosen from all pages in the corpus.\n",
    "    \"\"\"\n",
    "    # check if page is None\n",
    "    if corpus[page] == None:\n",
    "        # add empty dict\n",
    "        num = {i:0 for i in corpus.keys()}\n",
    "        # iterate over \n",
    "        for key in corpus.keys():\n",
    "            num[key] += damping_factor / (len(corpus.keys()))\n",
    "            \n",
    "    # if corpus is Not None\n",
    "    if corpus[page] != None:\n",
    "        # create dict with initial values \n",
    "        num = {i:0 + round((1-damping_factor) / len(corpus.keys()), 3) for i in corpus.keys()}\n",
    "        # iterate over keys, check if page and add distribution \n",
    "        for key, value in num.items():\n",
    "            if key != page:\n",
    "                num[key] += damping_factor / (len(corpus.keys()) - 1)\n",
    "    return num\n",
    "    \n",
    "transition_model(data, \"1.html\", damping_factor)"
   ]
  },
  {
   "cell_type": "code",
   "execution_count": 123,
   "metadata": {},
   "outputs": [
    {
     "data": {
      "text/plain": [
       "{'1.html': 0.22688888888888886,\n",
       " '2.html': 0.32133333333333336,\n",
       " '3.html': 0.22688888888888886,\n",
       " '4.html': 0.22688888888888886}"
      ]
     },
     "execution_count": 123,
     "metadata": {},
     "output_type": "execute_result"
    }
   ],
   "source": [
    "import random\n",
    "\n",
    "def sample_pagerank(corpus, damping_factor, n):\n",
    "    \"\"\"\n",
    "    Return PageRank values for each page by sampling `n` pages\n",
    "    according to transition model, starting with a page at random.\n",
    "\n",
    "    Return a dictionary where keys are page names, and values are\n",
    "    their estimated PageRank value (a value between 0 and 1). All\n",
    "    PageRank values should sum to 1.\n",
    "    \"\"\"\n",
    "    # create empty dict\n",
    "    num = {i:0 for i in corpus.keys()}\n",
    "    # randomly select first page\n",
    "    page = random.choice(list(corpus.keys()))\n",
    "    # iterate over n samples\n",
    "    for i in range(1, n):\n",
    "        # get the distribution \n",
    "        model = transition_model(corpus, page, damping_factor)\n",
    "        # iterate over empty dict \n",
    "        for g in num:\n",
    "            # add values with prodived formula\n",
    "            num[g] = ((i-1) * num[g] + model[g]) / i\n",
    "        # update randomly pages   \n",
    "        page = random.choices(list(num.keys()), list(num.values()), k=1)[0]\n",
    "\n",
    "    return num\n",
    "    \n",
    "sample_pagerank(data1, damping_factor, n)"
   ]
  },
  {
   "cell_type": "code",
   "execution_count": 176,
   "metadata": {},
   "outputs": [
    {
     "data": {
      "text/plain": [
       "{'1.html': 0.037500000000000006,\n",
       " '2.html': 0.4625,\n",
       " '3.html': 0.4625,\n",
       " '4.html': 0.037500000000000006}"
      ]
     },
     "execution_count": 176,
     "metadata": {},
     "output_type": "execute_result"
    }
   ],
   "source": [
    "import math\n",
    "\n",
    "def iterate_pagerank(corpus, damping_factor):\n",
    "    \"\"\"\n",
    "    Return PageRank values for each page by iteratively updating\n",
    "    PageRank values until convergence.\n",
    "\n",
    "    Return a dictionary where keys are page names, and values are\n",
    "    their estimated PageRank value (a value between 0 and 1). All\n",
    "    PageRank values should sum to 1.\n",
    "    \"\"\"\n",
    "    \n",
    "    old = {i:(1 / len(corpus.keys())) for i in corpus.keys()}\n",
    "    new = {i: math.inf for i in corpus.keys()}\n",
    "    lenth = len(corpus)\n",
    "    \n",
    "    while any(g > 0.001 for g in new.values()):\n",
    "        \n",
    "        for page in old.keys():\n",
    "            proba = 0\n",
    "            for keys, pages in corpus.items():\n",
    "                \n",
    "                if not pages:\n",
    "                    \n",
    "                    pages = corpus.keys()\n",
    "                    \n",
    "                if page in pages:\n",
    "                    \n",
    "                    proba += old[keys] / len(pages)\n",
    "                    \n",
    "            new_rank = ((1 - damping_factor) / lenth) + (damping_factor * proba)\n",
    "            \n",
    "            new[page] = abs(new_rank - old[page])\n",
    "            \n",
    "            old[page] = new_rank\n",
    "            \n",
    "    return old\n",
    "\n",
    "iterate_pagerank(data1, damping_factor)"
   ]
  },
  {
   "cell_type": "code",
   "execution_count": 17,
   "metadata": {},
   "outputs": [],
   "source": [
    "from mxnet import autograd, np, npx\n",
    "\n",
    "npx.set_np()"
   ]
  },
  {
   "cell_type": "code",
   "execution_count": 107,
   "metadata": {},
   "outputs": [
    {
     "data": {
      "text/plain": [
       "array([ 0.,  1.,  2.,  3.,  4.,  5.,  6.,  7.,  8.,  9., 10., 11., 12.,\n",
       "       13., 14., 15., 16., 17., 18.])"
      ]
     },
     "execution_count": 107,
     "metadata": {},
     "output_type": "execute_result"
    }
   ],
   "source": [
    "x = np.arange(19)\n",
    "x"
   ]
  },
  {
   "cell_type": "code",
   "execution_count": 108,
   "metadata": {},
   "outputs": [],
   "source": [
    "x.attach_grad()"
   ]
  },
  {
   "cell_type": "code",
   "execution_count": 109,
   "metadata": {},
   "outputs": [
    {
     "data": {
      "text/plain": [
       "array([0., 0., 0., 0., 0., 0., 0., 0., 0., 0., 0., 0., 0., 0., 0., 0., 0.,\n",
       "       0., 0.])"
      ]
     },
     "execution_count": 109,
     "metadata": {},
     "output_type": "execute_result"
    }
   ],
   "source": [
    "x.grad"
   ]
  },
  {
   "cell_type": "code",
   "execution_count": 110,
   "metadata": {},
   "outputs": [
    {
     "data": {
      "text/plain": [
       "array([ 12.,  13.,  16.,  21.,  28.,  37.,  48.,  61.,  76.,  93., 112.,\n",
       "       133., 156., 181., 208., 237., 268., 301., 336.])"
      ]
     },
     "execution_count": 110,
     "metadata": {},
     "output_type": "execute_result"
    }
   ],
   "source": [
    "import math\n",
    "with autograd.record():\n",
    "    y = x ** 2 + 12\n",
    "y"
   ]
  },
  {
   "cell_type": "code",
   "execution_count": 111,
   "metadata": {},
   "outputs": [],
   "source": [
    "y.backward()"
   ]
  },
  {
   "cell_type": "code",
   "execution_count": 112,
   "metadata": {},
   "outputs": [
    {
     "data": {
      "text/plain": [
       "array([ 0.,  2.,  4.,  6.,  8., 10., 12., 14., 16., 18., 20., 22., 24.,\n",
       "       26., 28., 30., 32., 34., 36.])"
      ]
     },
     "execution_count": 112,
     "metadata": {},
     "output_type": "execute_result"
    }
   ],
   "source": [
    "x.grad"
   ]
  },
  {
   "cell_type": "code",
   "execution_count": 113,
   "metadata": {},
   "outputs": [
    {
     "data": {
      "text/plain": [
       "array([ True,  True,  True,  True,  True,  True,  True,  True,  True,\n",
       "        True,  True,  True,  True,  True,  True,  True,  True,  True,\n",
       "        True])"
      ]
     },
     "execution_count": 113,
     "metadata": {},
     "output_type": "execute_result"
    }
   ],
   "source": [
    "x.grad == x*2"
   ]
  },
  {
   "cell_type": "code",
   "execution_count": 114,
   "metadata": {},
   "outputs": [],
   "source": [
    "import matplotlib.pyplot as plt"
   ]
  },
  {
   "cell_type": "code",
   "execution_count": 115,
   "metadata": {},
   "outputs": [
    {
     "data": {
      "text/plain": [
       "[<matplotlib.lines.Line2D at 0x7f086036ed90>]"
      ]
     },
     "execution_count": 115,
     "metadata": {},
     "output_type": "execute_result"
    },
    {
     "data": {
      "image/png": "[encoded data removed]",
      "text/plain": [
       "<Figure size 432x288 with 1 Axes>"
      ]
     },
     "metadata": {
      "needs_background": "light"
     },
     "output_type": "display_data"
    }
   ],
   "source": [
    " plt.plot(x.grad, y)"
   ]
  },
  {
   "cell_type": "code",
   "execution_count": null,
   "metadata": {},
   "outputs": [],
   "source": []
  }
 ],
 "metadata": {
  "kernelspec": {
   "display_name": "Python 3",
   "language": "python",
   "name": "python3"
  },
  "language_info": {
   "codemirror_mode": {
    "name": "ipython",
    "version": 3
   },
   "file_extension": ".py",
   "mimetype": "text/x-python",
   "name": "python",
   "nbconvert_exporter": "python",
   "pygments_lexer": "ipython3",
   "version": "3.9.0"
  }
 },
 "nbformat": 4,
 "nbformat_minor": 4
}
