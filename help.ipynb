{
 "cells": [
  {
   "cell_type": "code",
   "execution_count": 2,
   "metadata": {},
   "outputs": [],
   "source": [
    "def neighboring_cell(cell, height=8, width=8):\n",
    "    '''func to find all the neighboring cells'''\n",
    "    neighbors = set()\n",
    "    # loop over all the sells\n",
    "    for i in range(cell[0]-1, cell[0]+2):\n",
    "        for j in range(cell[1]-1, cell[1]+2):\n",
    "            # we don't need the cell itself\n",
    "            if (i, j) == cell:\n",
    "                continue\n",
    "            # add neightbor\n",
    "            if 0 <= i < width and 0 <= j < height:\n",
    "                neighbors.add((i, j))\n",
    "    return neighbors"
   ]
  },
  {
   "cell_type": "code",
   "execution_count": 5,
   "metadata": {},
   "outputs": [
    {
     "data": {
      "text/plain": [
       "{(6, 6), (6, 7), (7, 6)}"
      ]
     },
     "execution_count": 5,
     "metadata": {},
     "output_type": "execute_result"
    }
   ],
   "source": [
    "neighboring_cell((7,7))"
   ]
  },
  {
   "cell_type": "code",
   "execution_count": null,
   "metadata": {},
   "outputs": [],
   "source": []
  }
 ],
 "metadata": {
  "kernelspec": {
   "display_name": "Python 3",
   "language": "python",
   "name": "python3"
  },
  "language_info": {
   "codemirror_mode": {
    "name": "ipython",
    "version": 3
   },
   "file_extension": ".py",
   "mimetype": "text/x-python",
   "name": "python",
   "nbconvert_exporter": "python",
   "pygments_lexer": "ipython3",
   "version": "3.8.3"
  }
 },
 "nbformat": 4,
 "nbformat_minor": 4
}
